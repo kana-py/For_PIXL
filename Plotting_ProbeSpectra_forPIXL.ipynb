{
 "cells": [
  {
   "cell_type": "markdown",
   "metadata": {},
   "source": [
    "# Plotting Probe and convolved PIXL data"
   ]
  },
  {
   "cell_type": "markdown",
   "metadata": {},
   "source": [
    "## Import packages"
   ]
  },
  {
   "cell_type": "code",
   "execution_count": 1,
   "metadata": {},
   "outputs": [],
   "source": [
    "import matplotlib.pyplot as plt\n",
    "import csv\n",
    "import pandas as pd\n",
    "import os\n",
    "\n",
    "#set directory\n",
    "os.chdir('C:\\\\Users\\\\krist\\\\Documents\\\\Python Scripts\\\\ProbeSpectra_forPIXL')"
   ]
  },
  {
   "cell_type": "markdown",
   "metadata": {},
   "source": [
    "## Import the data"
   ]
  },
  {
   "cell_type": "code",
   "execution_count": 2,
   "metadata": {},
   "outputs": [],
   "source": [
    "# Read in the full resolution spectral data and strip the white space from the header\n",
    "spectra = pd.read_csv(\"ColorChecker_ProbeSpectra_forPIXL_plot.csv\")\n",
    "spectra.columns = spectra.columns.str.strip()\n",
    "\n",
    "#spectra.columns"
   ]
  },
  {
   "cell_type": "code",
   "execution_count": 3,
   "metadata": {},
   "outputs": [],
   "source": [
    "# Read in the convolved spectral data and strip the white space from the header\n",
    "cnv = pd.read_csv(\"ColorChecker_ProbeSpectra_forPIXL_convolved_plot.csv\")\n",
    "cnv.columns = cnv.columns.str.strip()\n",
    "\n",
    "#cnv.columns"
   ]
  },
  {
   "cell_type": "markdown",
   "metadata": {},
   "source": [
    "## Make the graphs with a for loop and pyplot"
   ]
  },
  {
   "cell_type": "markdown",
   "metadata": {},
   "source": [
    "### Set up "
   ]
  },
  {
   "cell_type": "code",
   "execution_count": 4,
   "metadata": {},
   "outputs": [],
   "source": [
    "# Set up the iteratable variable for the for loop in the next section\n",
    "graphs = list(spectra.columns)\n",
    "graphs.remove('wavelength')\n",
    "#print(graphs)\n",
    "\n",
    "# Change directory for output\n",
    "os.chdir('C:\\\\Users\\\\krist\\\\Documents\\\\Python Scripts\\\\ProbeSpectra_forPIXL\\\\Output')\n"
   ]
  },
  {
   "cell_type": "markdown",
   "metadata": {},
   "source": [
    "### The loop"
   ]
  },
  {
   "cell_type": "code",
   "execution_count": 5,
   "metadata": {},
   "outputs": [
    {
     "data": {
      "text/plain": [
       "<Figure size 432x288 with 0 Axes>"
      ]
     },
     "metadata": {},
     "output_type": "display_data"
    }
   ],
   "source": [
    "# Set up the counter for the graph and file name titles\n",
    "n = 0\n",
    "\n",
    "# The for loop\n",
    "for graph in graphs:\n",
    "    n = n + 1 #increase the counter\n",
    "    ax = plt.gca() #set the axis\n",
    "    spectra.plot(kind = 'line', x = 'wavelength', y = graph, color = 'DarkMagenta', ax = ax)\n",
    "    cnv.plot(kind = 'scatter', x = 'wavelength', y = graph, color = 'DarkGreen', ax = ax)\n",
    "    ax.get_legend().remove()\n",
    "    plt.xlim([400, 1000])\n",
    "    plt.ylim([0, 1])\n",
    "    plt.ylabel('Reflectance')\n",
    "    plt.title(n)\n",
    "#    plt.show() # initially used to check plots\n",
    "    plt.savefig(str(n) + '.png')\n",
    "    plt.clf() #clear the graph for the next loop"
   ]
  }
 ],
 "metadata": {
  "kernelspec": {
   "display_name": "Python 3",
   "language": "python",
   "name": "python3"
  },
  "language_info": {
   "codemirror_mode": {
    "name": "ipython",
    "version": 3
   },
   "file_extension": ".py",
   "mimetype": "text/x-python",
   "name": "python",
   "nbconvert_exporter": "python",
   "pygments_lexer": "ipython3",
   "version": "3.8.5"
  }
 },
 "nbformat": 4,
 "nbformat_minor": 4
}
